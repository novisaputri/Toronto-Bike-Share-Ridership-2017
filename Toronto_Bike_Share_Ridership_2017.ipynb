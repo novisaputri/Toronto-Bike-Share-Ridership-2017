{
  "nbformat": 4,
  "nbformat_minor": 0,
  "metadata": {
    "colab": {
      "name": "Toronto Bike Share Ridership 2017",
      "provenance": [],
      "collapsed_sections": []
    },
    "kernelspec": {
      "name": "python3",
      "display_name": "Python 3"
    },
    "accelerator": "GPU"
  },
  "cells": [
    {
      "cell_type": "code",
      "metadata": {
        "id": "LBxCcdhtIz2I"
      },
      "source": [
        "import numpy as np \n",
        "import pandas as pd\n",
        "from pandas import plotting\n",
        "import matplotlib.pyplot as plt \n",
        "import plotly.graph_objects as go\n",
        "from collections import Counter\n",
        "\n",
        "import warnings\n",
        "warnings.filterwarnings('ignore')\n",
        " \n",
        "%matplotlib inline"
      ],
      "execution_count": null,
      "outputs": []
    },
    {
      "cell_type": "markdown",
      "metadata": {
        "id": "wpqMOhUkkawg"
      },
      "source": [
        "## **Import Datasets**"
      ]
    },
    {
      "cell_type": "code",
      "metadata": {
        "id": "XOD0tyJriXr-"
      },
      "source": [
        "q1_2017 = pd.read_csv('/content/drive/My Drive/Bikeshare Ridership (2017 Q1).csv')\n",
        "q2_2017 = pd.read_csv('/content/drive/My Drive/Bikeshare Ridership (2017 Q2).csv')\n",
        "q3_2017 = pd.read_csv('/content/drive/My Drive/Bikeshare Ridership (2017 Q3).csv')\n",
        "q4_2017 = pd.read_csv('/content/drive/My Drive/Bikeshare Ridership (2017 Q4).csv')"
      ],
      "execution_count": null,
      "outputs": []
    },
    {
      "cell_type": "markdown",
      "metadata": {
        "id": "fE9nETdiE8pn"
      },
      "source": [
        "##**Data Preparation**"
      ]
    },
    {
      "cell_type": "code",
      "metadata": {
        "id": "bwWsJnwbWRP1",
        "outputId": "1300421b-3808-4b00-8e4c-e560d4c4c934",
        "colab": {
          "base_uri": "https://localhost:8080/",
          "height": 238
        }
      },
      "source": [
        "toronto = [q1_2017, q2_2017, q3_2017, q4_2017]\n",
        "df2017 = pd.concat(toronto)\n",
        "df2017.head()"
      ],
      "execution_count": null,
      "outputs": [
        {
          "output_type": "execute_result",
          "data": {
            "text/html": [
              "<div>\n",
              "<style scoped>\n",
              "    .dataframe tbody tr th:only-of-type {\n",
              "        vertical-align: middle;\n",
              "    }\n",
              "\n",
              "    .dataframe tbody tr th {\n",
              "        vertical-align: top;\n",
              "    }\n",
              "\n",
              "    .dataframe thead th {\n",
              "        text-align: right;\n",
              "    }\n",
              "</style>\n",
              "<table border=\"1\" class=\"dataframe\">\n",
              "  <thead>\n",
              "    <tr style=\"text-align: right;\">\n",
              "      <th></th>\n",
              "      <th>trip_id</th>\n",
              "      <th>trip_start_time</th>\n",
              "      <th>trip_stop_time</th>\n",
              "      <th>trip_duration_seconds</th>\n",
              "      <th>from_station_id</th>\n",
              "      <th>from_station_name</th>\n",
              "      <th>to_station_id</th>\n",
              "      <th>to_station_name</th>\n",
              "      <th>user_type</th>\n",
              "    </tr>\n",
              "  </thead>\n",
              "  <tbody>\n",
              "    <tr>\n",
              "      <th>0</th>\n",
              "      <td>712382</td>\n",
              "      <td>1/1/2017 0:00</td>\n",
              "      <td>1/1/2017 0:03</td>\n",
              "      <td>223</td>\n",
              "      <td>7051.0</td>\n",
              "      <td>Wellesley St E / Yonge St Green P</td>\n",
              "      <td>7089.0</td>\n",
              "      <td>Church St  / Wood St</td>\n",
              "      <td>Member</td>\n",
              "    </tr>\n",
              "    <tr>\n",
              "      <th>1</th>\n",
              "      <td>712383</td>\n",
              "      <td>1/1/2017 0:00</td>\n",
              "      <td>1/1/2017 0:05</td>\n",
              "      <td>279</td>\n",
              "      <td>7143.0</td>\n",
              "      <td>Kendal Ave / Bernard Ave</td>\n",
              "      <td>7154.0</td>\n",
              "      <td>Bathurst Subway Station</td>\n",
              "      <td>Member</td>\n",
              "    </tr>\n",
              "    <tr>\n",
              "      <th>2</th>\n",
              "      <td>712384</td>\n",
              "      <td>1/1/2017 0:05</td>\n",
              "      <td>1/1/2017 0:29</td>\n",
              "      <td>1394</td>\n",
              "      <td>7113.0</td>\n",
              "      <td>Parliament St / Aberdeen Ave</td>\n",
              "      <td>7199.0</td>\n",
              "      <td>College St W / Markham St</td>\n",
              "      <td>Member</td>\n",
              "    </tr>\n",
              "    <tr>\n",
              "      <th>3</th>\n",
              "      <td>712385</td>\n",
              "      <td>1/1/2017 0:07</td>\n",
              "      <td>1/1/2017 0:21</td>\n",
              "      <td>826</td>\n",
              "      <td>7077.0</td>\n",
              "      <td>College Park South</td>\n",
              "      <td>7010.0</td>\n",
              "      <td>King St W / Spadina Ave</td>\n",
              "      <td>Member</td>\n",
              "    </tr>\n",
              "    <tr>\n",
              "      <th>4</th>\n",
              "      <td>712386</td>\n",
              "      <td>1/1/2017 0:08</td>\n",
              "      <td>1/1/2017 0:12</td>\n",
              "      <td>279</td>\n",
              "      <td>7079.0</td>\n",
              "      <td>McGill St / Church St</td>\n",
              "      <td>7047.0</td>\n",
              "      <td>University Ave / Gerrard St W</td>\n",
              "      <td>Member</td>\n",
              "    </tr>\n",
              "  </tbody>\n",
              "</table>\n",
              "</div>"
            ],
            "text/plain": [
              "   trip_id trip_start_time  ...                to_station_name  user_type\n",
              "0   712382   1/1/2017 0:00  ...           Church St  / Wood St     Member\n",
              "1   712383   1/1/2017 0:00  ...        Bathurst Subway Station     Member\n",
              "2   712384   1/1/2017 0:05  ...      College St W / Markham St     Member\n",
              "3   712385   1/1/2017 0:07  ...        King St W / Spadina Ave     Member\n",
              "4   712386   1/1/2017 0:08  ...  University Ave / Gerrard St W     Member\n",
              "\n",
              "[5 rows x 9 columns]"
            ]
          },
          "metadata": {
            "tags": []
          },
          "execution_count": 3
        }
      ]
    },
    {
      "cell_type": "code",
      "metadata": {
        "id": "My-Cftnzbz50",
        "outputId": "16c9a3dc-43b9-4173-8aa6-40d84d411a29",
        "colab": {
          "base_uri": "https://localhost:8080/",
          "height": 289
        }
      },
      "source": [
        "df2017.info()"
      ],
      "execution_count": null,
      "outputs": [
        {
          "output_type": "stream",
          "text": [
            "<class 'pandas.core.frame.DataFrame'>\n",
            "Int64Index: 1492369 entries, 0 to 363404\n",
            "Data columns (total 9 columns):\n",
            " #   Column                 Non-Null Count    Dtype  \n",
            "---  ------                 --------------    -----  \n",
            " 0   trip_id                1492369 non-null  int64  \n",
            " 1   trip_start_time        1492369 non-null  object \n",
            " 2   trip_stop_time         1492369 non-null  object \n",
            " 3   trip_duration_seconds  1492369 non-null  int64  \n",
            " 4   from_station_id        465476 non-null   float64\n",
            " 5   from_station_name      1492369 non-null  object \n",
            " 6   to_station_id          465476 non-null   float64\n",
            " 7   to_station_name        1492368 non-null  object \n",
            " 8   user_type              1492369 non-null  object \n",
            "dtypes: float64(2), int64(2), object(5)\n",
            "memory usage: 113.9+ MB\n"
          ],
          "name": "stdout"
        }
      ]
    },
    {
      "cell_type": "code",
      "metadata": {
        "id": "VMBKmHRwaSW5",
        "outputId": "939f6d5a-a0db-4e86-f2e5-d8e608717d72",
        "colab": {
          "base_uri": "https://localhost:8080/",
          "height": 187
        }
      },
      "source": [
        "# Check if there is any missing value\n",
        "df2017.isnull().sum()"
      ],
      "execution_count": null,
      "outputs": [
        {
          "output_type": "execute_result",
          "data": {
            "text/plain": [
              "trip_id                        0\n",
              "trip_start_time                0\n",
              "trip_stop_time                 0\n",
              "trip_duration_seconds          0\n",
              "from_station_id          1026893\n",
              "from_station_name              0\n",
              "to_station_id            1026893\n",
              "to_station_name                1\n",
              "user_type                      0\n",
              "dtype: int64"
            ]
          },
          "metadata": {
            "tags": []
          },
          "execution_count": 5
        }
      ]
    },
    {
      "cell_type": "code",
      "metadata": {
        "id": "2Zt6N3rChqQ0"
      },
      "source": [
        "q1_2017['trip_start_time'] = pd.to_datetime(q1_2017['trip_start_time'])\n",
        "q2_2017['trip_start_time'] = pd.to_datetime(q2_2017['trip_start_time'])\n",
        "q3_2017['trip_start_time'] = pd.to_datetime(q3_2017['trip_start_time'])\n",
        "q4_2017['trip_start_time'] = pd.to_datetime(q4_2017['trip_start_time'])\n",
        "df2017['trip_start_time'] = pd.to_datetime(df2017['trip_start_time'])"
      ],
      "execution_count": null,
      "outputs": []
    },
    {
      "cell_type": "code",
      "metadata": {
        "id": "zUKo5e6rwTvA"
      },
      "source": [
        "q1_2017['trip_stop_time'] = pd.to_datetime(q1_2017['trip_stop_time'], errors='coerce')\n",
        "q2_2017['trip_stop_time'] = pd.to_datetime(q2_2017['trip_stop_time'], errors='coerce')\n",
        "q3_2017['trip_stop_time'] = pd.to_datetime(q3_2017['trip_stop_time'], errors='coerce')\n",
        "q4_2017['trip_stop_time'] = pd.to_datetime(q4_2017['trip_stop_time'], errors='coerce')\n",
        "df2017['trip_stop_time'] = pd.to_datetime(df2017['trip_stop_time'], errors='coerce')"
      ],
      "execution_count": null,
      "outputs": []
    },
    {
      "cell_type": "code",
      "metadata": {
        "id": "H1OKvO1Ol-a4"
      },
      "source": [
        "q1_2017['hour_start'] = q1_2017['trip_start_time'].apply(lambda time: time.hour)\n",
        "q1_2017['hour_stop'] = q1_2017['trip_stop_time'].apply(lambda time: time.hour)\n",
        "\n",
        "q2_2017['hour_start'] = q2_2017['trip_start_time'].apply(lambda time: time.hour)\n",
        "q2_2017['hour_stop'] = q2_2017['trip_stop_time'].apply(lambda time: time.hour)\n",
        "\n",
        "q3_2017['hour_start'] = q3_2017['trip_start_time'].apply(lambda time: time.hour)\n",
        "q3_2017['hour_stop'] = q3_2017['trip_stop_time'].apply(lambda time: time.hour)\n",
        "\n",
        "q4_2017['hour_start'] = q4_2017['trip_start_time'].apply(lambda time: time.hour)\n",
        "q4_2017['hour_stop'] = q4_2017['trip_stop_time'].apply(lambda time: time.hour)\n",
        "\n",
        "df2017['hour_start'] = df2017['trip_start_time'].apply(lambda time: time.hour)\n",
        "df2017['hour_stop'] = df2017['trip_stop_time'].apply(lambda time: time.hour)"
      ],
      "execution_count": null,
      "outputs": []
    },
    {
      "cell_type": "code",
      "metadata": {
        "id": "OKeUYuNlFbsi"
      },
      "source": [
        "q1_2017['day_start'] = q1_2017['trip_start_time'].apply(lambda time: time.dayofweek)\n",
        "q1_2017['day_stop'] = q1_2017['trip_stop_time'].apply(lambda time: time.dayofweek)\n",
        "\n",
        "q2_2017['day_start'] = q2_2017['trip_start_time'].apply(lambda time: time.dayofweek)\n",
        "q2_2017['day_stop'] = q2_2017['trip_stop_time'].apply(lambda time: time.dayofweek)\n",
        "\n",
        "q3_2017['day_start'] = q3_2017['trip_start_time'].apply(lambda time: time.dayofweek)\n",
        "q3_2017['day_stop'] = q3_2017['trip_stop_time'].apply(lambda time: time.dayofweek)\n",
        "\n",
        "q4_2017['day_start'] = q4_2017['trip_start_time'].apply(lambda time: time.dayofweek)\n",
        "q4_2017['day_stop'] = q4_2017['trip_stop_time'].apply(lambda time: time.dayofweek)\n",
        "\n",
        "df2017['weekday_start'] = df2017['trip_start_time'].apply(lambda time: time.dayofweek)\n",
        "df2017['weekday_stop'] = df2017['trip_stop_time'].apply(lambda time: time.dayofweek)"
      ],
      "execution_count": null,
      "outputs": []
    },
    {
      "cell_type": "code",
      "metadata": {
        "id": "2tuzcmHlm82f"
      },
      "source": [
        "q1_2017['month_start'] = q1_2017['trip_start_time'].apply(lambda time: time.month)\n",
        "q1_2017['month_stop'] = q1_2017['trip_stop_time'].apply(lambda time: time.month)\n",
        "\n",
        "q2_2017['month_start'] = q2_2017['trip_start_time'].apply(lambda time: time.month)\n",
        "q2_2017['month_stop'] = q2_2017['trip_stop_time'].apply(lambda time: time.month)\n",
        "\n",
        "q3_2017['month_start'] = q3_2017['trip_start_time'].apply(lambda time: time.month)\n",
        "q3_2017['month_stop'] = q3_2017['trip_stop_time'].apply(lambda time: time.month)\n",
        "\n",
        "q4_2017['month_start'] = q4_2017['trip_start_time'].apply(lambda time: time.month)\n",
        "q4_2017['month_stop'] = q4_2017['trip_stop_time'].apply(lambda time: time.month)\n",
        "\n",
        "df2017['month_start'] = df2017['trip_start_time'].apply(lambda time: time.month)\n",
        "df2017['month_stop'] = df2017['trip_stop_time'].apply(lambda time: time.month)\n"
      ],
      "execution_count": null,
      "outputs": []
    },
    {
      "cell_type": "code",
      "metadata": {
        "id": "688bZzzrnS8q"
      },
      "source": [
        "day = {0:'Mon',1:'Tue',2:'Wed',3:'Thu',4:'Fri',5:'Sat',6:'Sun'}\n",
        "\n",
        "q1_2017['day_start'] = q1_2017['day_start'].map(day)\n",
        "q1_2017['day_stop'] = q1_2017['day_stop'].map(day)\n",
        "\n",
        "q2_2017['day_start'] = q2_2017['day_start'].map(day)\n",
        "q2_2017['day_stop'] = q2_2017['day_stop'].map(day)\n",
        "\n",
        "q3_2017['day_start'] = q3_2017['day_start'].map(day)\n",
        "q3_2017['day_stop'] = q3_2017['day_stop'].map(day)\n",
        "\n",
        "q4_2017['day_start'] = q4_2017['day_start'].map(day)\n",
        "q4_2017['day_stop'] = q4_2017['day_stop'].map(day)\n",
        "\n",
        "df2017['weekday_start'] = df2017['weekday_start'].map(day)\n",
        "df2017['weekday_stop'] = df2017['weekday_stop'].map(day)"
      ],
      "execution_count": null,
      "outputs": []
    },
    {
      "cell_type": "code",
      "metadata": {
        "id": "xoCr9TkknHoJ"
      },
      "source": [
        "mon = {1:'Jan',2:'Feb',3:'Mar',4:'Apr',5:'May',6:'Jun',7:'Jul',8:'Aug',9:'Sep',10:'Oct',11:'Nov',12:'Dec'}\n",
        "\n",
        "q1_2017['month_start'] = q1_2017['month_start'].map(mon)\n",
        "q1_2017['month_stop'] = q1_2017['month_stop'].map(mon)\n",
        "\n",
        "q2_2017['month_start'] = q2_2017['month_start'].map(mon)\n",
        "q2_2017['month_stop'] = q2_2017['month_stop'].map(mon)\n",
        "\n",
        "q3_2017['month_start'] = q3_2017['month_start'].map(mon)\n",
        "q3_2017['month_stop'] = q3_2017['month_stop'].map(mon)\n",
        "\n",
        "q4_2017['month_start'] = q4_2017['month_start'].map(mon)\n",
        "q4_2017['month_stop'] = q4_2017['month_stop'].map(mon)\n",
        "\n",
        "df2017['month_start'] = df2017['month_start'].map(mon)\n",
        "df2017['month_stop'] = df2017['month_stop'].map(mon)"
      ],
      "execution_count": null,
      "outputs": []
    },
    {
      "cell_type": "code",
      "metadata": {
        "id": "N-IpWuEPcGko",
        "outputId": "360d10d1-423b-4c20-ef02-636709a192d9",
        "colab": {
          "base_uri": "https://localhost:8080/",
          "height": 309
        }
      },
      "source": [
        "df2017.head()"
      ],
      "execution_count": null,
      "outputs": [
        {
          "output_type": "execute_result",
          "data": {
            "text/html": [
              "<div>\n",
              "<style scoped>\n",
              "    .dataframe tbody tr th:only-of-type {\n",
              "        vertical-align: middle;\n",
              "    }\n",
              "\n",
              "    .dataframe tbody tr th {\n",
              "        vertical-align: top;\n",
              "    }\n",
              "\n",
              "    .dataframe thead th {\n",
              "        text-align: right;\n",
              "    }\n",
              "</style>\n",
              "<table border=\"1\" class=\"dataframe\">\n",
              "  <thead>\n",
              "    <tr style=\"text-align: right;\">\n",
              "      <th></th>\n",
              "      <th>trip_id</th>\n",
              "      <th>trip_start_time</th>\n",
              "      <th>trip_stop_time</th>\n",
              "      <th>trip_duration_seconds</th>\n",
              "      <th>from_station_id</th>\n",
              "      <th>from_station_name</th>\n",
              "      <th>to_station_id</th>\n",
              "      <th>to_station_name</th>\n",
              "      <th>user_type</th>\n",
              "      <th>hour_start</th>\n",
              "      <th>hour_stop</th>\n",
              "      <th>weekday_start</th>\n",
              "      <th>weekday_stop</th>\n",
              "      <th>month_start</th>\n",
              "      <th>month_stop</th>\n",
              "    </tr>\n",
              "  </thead>\n",
              "  <tbody>\n",
              "    <tr>\n",
              "      <th>0</th>\n",
              "      <td>712382</td>\n",
              "      <td>2017-01-01 00:00:00</td>\n",
              "      <td>2017-01-01 00:03:00</td>\n",
              "      <td>223</td>\n",
              "      <td>7051.0</td>\n",
              "      <td>Wellesley St E / Yonge St Green P</td>\n",
              "      <td>7089.0</td>\n",
              "      <td>Church St  / Wood St</td>\n",
              "      <td>Member</td>\n",
              "      <td>0</td>\n",
              "      <td>0.0</td>\n",
              "      <td>Sun</td>\n",
              "      <td>Sun</td>\n",
              "      <td>Jan</td>\n",
              "      <td>Jan</td>\n",
              "    </tr>\n",
              "    <tr>\n",
              "      <th>1</th>\n",
              "      <td>712383</td>\n",
              "      <td>2017-01-01 00:00:00</td>\n",
              "      <td>2017-01-01 00:05:00</td>\n",
              "      <td>279</td>\n",
              "      <td>7143.0</td>\n",
              "      <td>Kendal Ave / Bernard Ave</td>\n",
              "      <td>7154.0</td>\n",
              "      <td>Bathurst Subway Station</td>\n",
              "      <td>Member</td>\n",
              "      <td>0</td>\n",
              "      <td>0.0</td>\n",
              "      <td>Sun</td>\n",
              "      <td>Sun</td>\n",
              "      <td>Jan</td>\n",
              "      <td>Jan</td>\n",
              "    </tr>\n",
              "    <tr>\n",
              "      <th>2</th>\n",
              "      <td>712384</td>\n",
              "      <td>2017-01-01 00:05:00</td>\n",
              "      <td>2017-01-01 00:29:00</td>\n",
              "      <td>1394</td>\n",
              "      <td>7113.0</td>\n",
              "      <td>Parliament St / Aberdeen Ave</td>\n",
              "      <td>7199.0</td>\n",
              "      <td>College St W / Markham St</td>\n",
              "      <td>Member</td>\n",
              "      <td>0</td>\n",
              "      <td>0.0</td>\n",
              "      <td>Sun</td>\n",
              "      <td>Sun</td>\n",
              "      <td>Jan</td>\n",
              "      <td>Jan</td>\n",
              "    </tr>\n",
              "    <tr>\n",
              "      <th>3</th>\n",
              "      <td>712385</td>\n",
              "      <td>2017-01-01 00:07:00</td>\n",
              "      <td>2017-01-01 00:21:00</td>\n",
              "      <td>826</td>\n",
              "      <td>7077.0</td>\n",
              "      <td>College Park South</td>\n",
              "      <td>7010.0</td>\n",
              "      <td>King St W / Spadina Ave</td>\n",
              "      <td>Member</td>\n",
              "      <td>0</td>\n",
              "      <td>0.0</td>\n",
              "      <td>Sun</td>\n",
              "      <td>Sun</td>\n",
              "      <td>Jan</td>\n",
              "      <td>Jan</td>\n",
              "    </tr>\n",
              "    <tr>\n",
              "      <th>4</th>\n",
              "      <td>712386</td>\n",
              "      <td>2017-01-01 00:08:00</td>\n",
              "      <td>2017-01-01 00:12:00</td>\n",
              "      <td>279</td>\n",
              "      <td>7079.0</td>\n",
              "      <td>McGill St / Church St</td>\n",
              "      <td>7047.0</td>\n",
              "      <td>University Ave / Gerrard St W</td>\n",
              "      <td>Member</td>\n",
              "      <td>0</td>\n",
              "      <td>0.0</td>\n",
              "      <td>Sun</td>\n",
              "      <td>Sun</td>\n",
              "      <td>Jan</td>\n",
              "      <td>Jan</td>\n",
              "    </tr>\n",
              "  </tbody>\n",
              "</table>\n",
              "</div>"
            ],
            "text/plain": [
              "   trip_id     trip_start_time  ... month_start  month_stop\n",
              "0   712382 2017-01-01 00:00:00  ...         Jan         Jan\n",
              "1   712383 2017-01-01 00:00:00  ...         Jan         Jan\n",
              "2   712384 2017-01-01 00:05:00  ...         Jan         Jan\n",
              "3   712385 2017-01-01 00:07:00  ...         Jan         Jan\n",
              "4   712386 2017-01-01 00:08:00  ...         Jan         Jan\n",
              "\n",
              "[5 rows x 15 columns]"
            ]
          },
          "metadata": {
            "tags": []
          },
          "execution_count": 13
        }
      ]
    },
    {
      "cell_type": "markdown",
      "metadata": {
        "id": "ShLY9Fy1YYYy"
      },
      "source": [
        "##**a. Find out what percentage of bikes are returned to its initial location ?**"
      ]
    },
    {
      "cell_type": "code",
      "metadata": {
        "id": "D6eeDn4VoweI"
      },
      "source": [
        "route_station_2017_1 = np.where(q1_2017['from_station_name'] == q1_2017['to_station_name'], 'Init point', 'different point')\n",
        "route_station_2017_2 = np.where(q2_2017['from_station_name'] == q2_2017['to_station_name'], 'Init point', 'different point')\n",
        "route_station_2017_3 = np.where(q3_2017['from_station_name'] == q3_2017['to_station_name'], 'Init point', 'different point')\n",
        "route_station_2017_4 = np.where(q4_2017['from_station_name'] == q4_2017['to_station_name'], 'Init point', 'different point')\n",
        "route_station_2017 = np.where(df2017['from_station_id'] == df2017['to_station_id'], 'Init point', 'different point')"
      ],
      "execution_count": null,
      "outputs": []
    },
    {
      "cell_type": "code",
      "metadata": {
        "id": "YewiOjl7qnlq"
      },
      "source": [
        "q1_2017['Return_point'] = route_station_2017_1\n",
        "q2_2017['Return_point'] = route_station_2017_2\n",
        "q3_2017['Return_point'] = route_station_2017_3\n",
        "q4_2017['Return_point'] = route_station_2017_4\n",
        "df2017['Return_point'] = route_station_2017"
      ],
      "execution_count": null,
      "outputs": []
    },
    {
      "cell_type": "code",
      "metadata": {
        "id": "4k_l4FvLhqPp"
      },
      "source": [
        "return_point_2017_1 = q1_2017['Return_point'].value_counts() \n",
        "return_point_2017_2 = q2_2017['Return_point'].value_counts() \n",
        "return_point_2017_3 = q3_2017['Return_point'].value_counts() \n",
        "return_point_2017_4 = q4_2017['Return_point'].value_counts() \n",
        "return_point_2017 = df2017['Return_point'].value_counts()"
      ],
      "execution_count": null,
      "outputs": []
    },
    {
      "cell_type": "code",
      "metadata": {
        "id": "QpJ62EsuhqPt"
      },
      "source": [
        "all_bike_2017_1 = q1_2017['Return_point'].count()\n",
        "all_bike_2017_2 = q2_2017['Return_point'].count()\n",
        "all_bike_2017_3 = q3_2017['Return_point'].count()\n",
        "all_bike_2017_4 = q4_2017['Return_point'].count()\n",
        "all_bike_2017 = df2017['Return_point'].count()"
      ],
      "execution_count": null,
      "outputs": []
    },
    {
      "cell_type": "code",
      "metadata": {
        "id": "OyOqDSAAhqPw"
      },
      "source": [
        "init_bike_2017_1 = return_point_2017_1['Init point']\n",
        "init_bike_2017_2 = return_point_2017_2['Init point']\n",
        "init_bike_2017_3 = return_point_2017_3['Init point']\n",
        "init_bike_2017_4 = return_point_2017_4['Init point']\n",
        "init_bike_2017 = return_point_2017['Init point']"
      ],
      "execution_count": null,
      "outputs": []
    },
    {
      "cell_type": "code",
      "metadata": {
        "id": "FPqpRiOsJxkD"
      },
      "source": [
        "bike_returned_2017_1 = (init_bike_2017_1/all_bike_2017_1)*100\n",
        "bike_returned_2017_2 = (init_bike_2017_2/all_bike_2017_2)*100\n",
        "bike_returned_2017_3 = (init_bike_2017_3/all_bike_2017_3)*100\n",
        "bike_returned_2017_4 = (init_bike_2017_4/all_bike_2017_4)*100\n",
        "bike_returned_2017 = (init_bike_2017/all_bike_2017)*100"
      ],
      "execution_count": null,
      "outputs": []
    },
    {
      "cell_type": "code",
      "metadata": {
        "id": "5asoThgBKDCr",
        "outputId": "de3cd10e-626b-41e7-88ec-883d09423694",
        "colab": {
          "base_uri": "https://localhost:8080/",
          "height": 102
        }
      },
      "source": [
        "print('Percentage of all Quarter bikes are returned to its initial location on 2017')\n",
        "print('Q1 2017 : %.2f' %bike_returned_2017_1, '%')  \n",
        "print('Q2 2017 : %.2f' %bike_returned_2017_2, '%')  \n",
        "print('Q3 2017 : %.2f' %bike_returned_2017_3, '%')  \n",
        "print('Q4 2017 : %.2f' %bike_returned_2017_4, '%')  "
      ],
      "execution_count": null,
      "outputs": [
        {
          "output_type": "stream",
          "text": [
            "Percentage of all Quarter bikes are returned to its initial location on 2017\n",
            "Q1 2017 : 1.17 %\n",
            "Q2 2017 : 3.08 %\n",
            "Q3 2017 : 7.08 %\n",
            "Q4 2017 : 3.57 %\n"
          ],
          "name": "stdout"
        }
      ]
    },
    {
      "cell_type": "code",
      "metadata": {
        "id": "vhTISo65duPP",
        "outputId": "ac133413-7ccf-4b40-bf0d-34a462550146",
        "colab": {
          "base_uri": "https://localhost:8080/",
          "height": 298
        }
      },
      "source": [
        "# Get visual comparison of all Quarter bikes are returned to its initial location on 2017\n",
        "plt.barh(['Quarter 1 2017', 'Quarter 2 2017','Quarter 3 2017','Quarter 4 2017'], \n",
        "         [bike_returned_2017_1, bike_returned_2017_2, bike_returned_2017_3, bike_returned_2017_4],color='palevioletred')\n",
        "plt.title(\"Comparison of All Quarter Bikes are Returned to Its Initial Location on 2017\")"
      ],
      "execution_count": null,
      "outputs": [
        {
          "output_type": "execute_result",
          "data": {
            "text/plain": [
              "Text(0.5, 1.0, 'Comparison of All Quarter Bikes are Returned to Its Initial Location on 2017')"
            ]
          },
          "metadata": {
            "tags": []
          },
          "execution_count": 21
        },
        {
          "output_type": "display_data",
          "data": {
            "image/png": "[encoded data removed]",
            "text/plain": [
              "<Figure size 432x288 with 1 Axes>"
            ]
          },
          "metadata": {
            "tags": [],
            "needs_background": "light"
          }
        }
      ]
    },
    {
      "cell_type": "code",
      "metadata": {
        "id": "im7rDnMKhqP3",
        "outputId": "a40f85fe-9d9b-443f-8d66-592ef6ea925a",
        "colab": {
          "base_uri": "https://localhost:8080/",
          "height": 34
        }
      },
      "source": [
        "print('Percentage of bikes are returned to its initial location on 2017 is %.2f' %bike_returned_2017, '%' )"
      ],
      "execution_count": null,
      "outputs": [
        {
          "output_type": "stream",
          "text": [
            "Percentage of bikes are returned to its initial location on 2017 is 0.79 %\n"
          ],
          "name": "stdout"
        }
      ]
    },
    {
      "cell_type": "markdown",
      "metadata": {
        "id": "E4BZnq19yyBO"
      },
      "source": [
        "##**b. When are the peak hours of the day ?**"
      ]
    },
    {
      "cell_type": "markdown",
      "metadata": {
        "id": "vLIqnqcTo8gL"
      },
      "source": [
        "By Hours"
      ]
    },
    {
      "cell_type": "code",
      "metadata": {
        "id": "OWCH22hiXNLV"
      },
      "source": [
        "newdf = df2017.copy()\n",
        "newdf = newdf.groupby('hour_start').size().reset_index(name='counts').sort_values(by='counts', ascending=False).head(5)"
      ],
      "execution_count": null,
      "outputs": []
    },
    {
      "cell_type": "code",
      "metadata": {
        "id": "QaUKrgbFzPiq",
        "outputId": "4da0b8c8-3bc6-4da0-8ed0-9e3bc522c088",
        "colab": {
          "base_uri": "https://localhost:8080/",
          "height": 368
        }
      },
      "source": [
        "import seaborn as sns\n",
        "\n",
        "plt.figure(figsize=(10,5))\n",
        "sns.set_style('darkgrid')\n",
        "Peak_Hour = sns.barplot(data=newdf, x='hour_start', y='counts', palette='Blues')\n",
        "plt.title('Top 5 The Peak Hours of The Day on 2017')"
      ],
      "execution_count": null,
      "outputs": [
        {
          "output_type": "execute_result",
          "data": {
            "text/plain": [
              "Text(0.5, 1.0, 'Top 5 The Peak Hours of The Day on 2017')"
            ]
          },
          "metadata": {
            "tags": []
          },
          "execution_count": 24
        },
        {
          "output_type": "display_data",
          "data": {
            "image/png": "[encoded data removed]",
            "text/plain": [
              "<Figure size 720x360 with 1 Axes>"
            ]
          },
          "metadata": {
            "tags": [],
            "needs_background": "light"
          }
        }
      ]
    },
    {
      "cell_type": "markdown",
      "metadata": {
        "id": "ka1GGcGHo_jZ"
      },
      "source": [
        "By Days"
      ]
    },
    {
      "cell_type": "code",
      "metadata": {
        "id": "c4cj-x94ofuE"
      },
      "source": [
        "newdf1 = df2017.copy()\n",
        "newdf1 = newdf1.groupby('weekday_start').size().reset_index(name='counts').sort_values(by='counts', ascending=False)"
      ],
      "execution_count": null,
      "outputs": []
    },
    {
      "cell_type": "code",
      "metadata": {
        "id": "Jc9A5WVdpEaN",
        "outputId": "3b4f0f4b-9ed5-438a-aba4-785b029c16a2",
        "colab": {
          "base_uri": "https://localhost:8080/",
          "height": 368
        }
      },
      "source": [
        "plt.figure(figsize=(10,5))\n",
        "sns.set_style('darkgrid')\n",
        "order = ['Mon','Tue','Wed','Thu','Fri','Sat','Sun']\n",
        "Peak_Day = sns.barplot(data=newdf1, x='weekday_start', y='counts',order = order, palette='Blues')\n",
        "plt.title('The Peak Day of The Week on 2017')"
      ],
      "execution_count": null,
      "outputs": [
        {
          "output_type": "execute_result",
          "data": {
            "text/plain": [
              "Text(0.5, 1.0, 'The Peak Day of The Week on 2017')"
            ]
          },
          "metadata": {
            "tags": []
          },
          "execution_count": 26
        },
        {
          "output_type": "display_data",
          "data": {
            "image/png": "[encoded data removed]",
            "text/plain": [
              "<Figure size 720x360 with 1 Axes>"
            ]
          },
          "metadata": {
            "tags": []
          }
        }
      ]
    },
    {
      "cell_type": "markdown",
      "metadata": {
        "id": "p4xC9vmd6c2x"
      },
      "source": [
        "By Days"
      ]
    },
    {
      "cell_type": "code",
      "metadata": {
        "id": "GpdlVVQH6c20"
      },
      "source": [
        "newdf2 = df2017.copy()\n",
        "newdf2 = newdf2.groupby('month_start').size().reset_index(name='counts').sort_values(by='counts', ascending=False)"
      ],
      "execution_count": null,
      "outputs": []
    },
    {
      "cell_type": "code",
      "metadata": {
        "id": "PBl7Lk0W6c24",
        "outputId": "ec3ca706-d98b-4959-bd85-7bfc716e8726",
        "colab": {
          "base_uri": "https://localhost:8080/",
          "height": 368
        }
      },
      "source": [
        "plt.figure(figsize=(10,5))\n",
        "sns.set_style('darkgrid')\n",
        "order = ['Jan','Feb','Mar','Apr','May','Jun','Jul','Aug','Sep','Oct','Nov','Dec']\n",
        "Peak_Day = sns.barplot(data=newdf2, x='month_start', y='counts',order = order, palette='Blues')\n",
        "plt.title('The Peak Month of The Year on 2017')"
      ],
      "execution_count": null,
      "outputs": [
        {
          "output_type": "execute_result",
          "data": {
            "text/plain": [
              "Text(0.5, 1.0, 'The Peak Month of The Year on 2017')"
            ]
          },
          "metadata": {
            "tags": []
          },
          "execution_count": 29
        },
        {
          "output_type": "display_data",
          "data": {
            "image/png": "[encoded data removed]",
            "text/plain": [
              "<Figure size 720x360 with 1 Axes>"
            ]
          },
          "metadata": {
            "tags": []
          }
        }
      ]
    },
    {
      "cell_type": "markdown",
      "metadata": {
        "id": "NQmpAwjzR12D"
      },
      "source": [
        "##**c. Which station is the most crowded / needed ?**"
      ]
    },
    {
      "cell_type": "code",
      "metadata": {
        "id": "x89BX3wdOTLw"
      },
      "source": [
        "num_occurances = dict(Counter(df2017.from_station_name))\n",
        "\n",
        "top_trip_starting_area = sorted(num_occurances.items(), key = lambda x : x[1], reverse=True)[:5]\n",
        "top_trip_ending_area = sorted(dict(Counter(df2017.to_station_name)).items(), key= lambda x : x[1], reverse= True)[:5]"
      ],
      "execution_count": null,
      "outputs": []
    },
    {
      "cell_type": "code",
      "metadata": {
        "id": "Dg3zQ97AS9Xl",
        "outputId": "ee492182-9845-4a09-9051-3783a1c33963",
        "colab": {
          "base_uri": "https://localhost:8080/",
          "height": 272
        }
      },
      "source": [
        "print(\"The Top 5 Most Crowded Station for Departures : \\n\")\n",
        "print(*top_trip_starting_area, sep=\"\\n\")\n",
        "print()\n",
        "print(\"The Top 5 Most Crowded Station for Destinations : \\n\")\n",
        "print(*top_trip_ending_area, sep=\"\\n\")"
      ],
      "execution_count": null,
      "outputs": [
        {
          "output_type": "stream",
          "text": [
            "The Top 5 Most Crowded Station for Departures : \n",
            "\n",
            "('Union Station', 22143)\n",
            "('Simcoe St / Wellington St W', 21365)\n",
            "('York St / Queens Quay W', 19143)\n",
            "('Bay St / Wellesley St W', 18082)\n",
            "('King St W / Spadina Ave', 18039)\n",
            "\n",
            "The Top 5 Most Crowded Station for Destinations : \n",
            "\n",
            "('Union Station', 29228)\n",
            "('Simcoe St / Wellington St W', 22809)\n",
            "('York St / Queens Quay W', 20768)\n",
            "('King St W / Spadina Ave', 19521)\n",
            "('Queen St W / Portland St', 17872)\n"
          ],
          "name": "stdout"
        }
      ]
    },
    {
      "cell_type": "code",
      "metadata": {
        "id": "qaXTbG32lqUn",
        "outputId": "83e670de-b61a-4578-d472-0a3f685f6efd",
        "colab": {
          "base_uri": "https://localhost:8080/",
          "height": 607
        }
      },
      "source": [
        "plt.figure(figsize=(15,10))\n",
        "x,y = zip (*top_trip_starting_area)\n",
        "plt.bar(x,y,color=('mediumorchid'))\n",
        "plt.title('The Top 5 Most Crowded Station for Departures')\n",
        "plt.show()"
      ],
      "execution_count": null,
      "outputs": [
        {
          "output_type": "display_data",
          "data": {
            "image/png": "[encoded data removed]",
            "text/plain": [
              "<Figure size 1080x720 with 1 Axes>"
            ]
          },
          "metadata": {
            "tags": []
          }
        }
      ]
    },
    {
      "cell_type": "code",
      "metadata": {
        "id": "QBJSctJCmWoU",
        "outputId": "d9a90381-1585-4327-b79a-654a917cd249",
        "colab": {
          "base_uri": "https://localhost:8080/",
          "height": 607
        }
      },
      "source": [
        "plt.figure(figsize=(15,10))\n",
        "z,a = zip (*top_trip_ending_area)\n",
        "plt.bar(z,a,color=('palevioletred'))\n",
        "plt.title('The Top 5 Most Crowded Station Destinations')\n",
        "plt.show()"
      ],
      "execution_count": null,
      "outputs": [
        {
          "output_type": "display_data",
          "data": {
            "image/png": "[encoded data removed]",
            "text/plain": [
              "<Figure size 1080x720 with 1 Axes>"
            ]
          },
          "metadata": {
            "tags": []
          }
        }
      ]
    },
    {
      "cell_type": "markdown",
      "metadata": {
        "id": "23Iv5z32bSen"
      },
      "source": [
        "##**d. Compare behavior both of user type !**"
      ]
    },
    {
      "cell_type": "code",
      "metadata": {
        "id": "zjTF0Tc8hsG_"
      },
      "source": [
        "annualdf = df2017.copy()\n",
        "annualdf = df2017[df2017['user_type']=='Member']\n",
        "annualdf = annualdf.groupby('from_station_name').size().reset_index(name='counts').sort_values(by='counts', ascending=False).head(10)"
      ],
      "execution_count": null,
      "outputs": []
    },
    {
      "cell_type": "code",
      "metadata": {
        "id": "KA-XsJzUHt1T",
        "outputId": "ad758d3f-0a3e-4903-da11-e973093ccdfc",
        "colab": {
          "base_uri": "https://localhost:8080/",
          "height": 542
        }
      },
      "source": [
        "# Get visual Top 10 Departing Stations (Annual Members)\n",
        "figsize=(10,5)\n",
        "labels = annualdf['from_station_name']\n",
        "values = annualdf['counts']\n",
        "colors = ['orchid','mediumvioletred','deeppink','hotpink','lavenderblush','palevioletred','crimson','pink','lightpink','plum']\n",
        "\n",
        "fig1 = go.Figure(data=[go.Pie(labels=labels, values=values)])\n",
        "fig1.update_layout(title_text=\"Top 10 Departing Stations (Annual Members)\")\n",
        "fig1.update_traces(marker=dict(colors=colors))\n",
        "fig1.show()"
      ],
      "execution_count": null,
      "outputs": [
        {
          "output_type": "display_data",
          "data": {
            "text/html": [
              "<html>\n",
              "<head><meta charset=\"utf-8\" /></head>\n",
              "<body>\n",
              "    <div>\n",
              "            <script src=\"https://cdnjs.cloudflare.com/ajax/libs/mathjax/2.7.5/MathJax.js?config=TeX-AMS-MML_SVG\"></script><script type=\"text/javascript\">if (window.MathJax) {MathJax.Hub.Config({SVG: {font: \"STIX-Web\"}});}</script>\n",
              "                <script type=\"text/javascript\">window.PlotlyConfig = {MathJaxConfig: 'local'};</script>\n",
              "        <script src=\"https://cdn.plot.ly/plotly-latest.min.js\"></script>    \n",
              "            <div id=\"5b8cf45b-e044-4e3f-9d88-4bc959e5cfc7\" class=\"plotly-graph-div\" style=\"height:525px; width:100%;\"></div>\n",
              "            <script type=\"text/javascript\">\n",
              "                \n",
              "                    window.PLOTLYENV=window.PLOTLYENV || {};\n",
              "                    \n",
              "                if (document.getElementById(\"5b8cf45b-e044-4e3f-9d88-4bc959e5cfc7\")) {\n",
              "                    Plotly.newPlot(\n",
              "                        '5b8cf45b-e044-4e3f-9d88-4bc959e5cfc7',\n",
              "                        [{\"labels\": [\"Union Station\", \"Simcoe St / Wellington St W\", \"Bay St / Wellesley St W\", \"Bay St / College St (East Side)\", \"King St W / Spadina Ave\", \"Queen St W / Portland St\", \"Front St W / Blue Jays Way\", \"Simcoe St / Queen St W\", \"College Park South\", \"Gould St / Mutual St\"], \"marker\": {\"colors\": [\"orchid\", \"mediumvioletred\", \"deeppink\", \"hotpink\", \"lavenderblush\", \"palevioletred\", \"crimson\", \"pink\", \"lightpink\", \"plum\"]}, \"type\": \"pie\", \"values\": [18625, 18196, 16492, 15662, 14733, 14302, 12818, 12435, 12251, 11600]}],\n",
              "                        {\"template\": {\"data\": {\"bar\": [{\"error_x\": {\"color\": \"#2a3f5f\"}, \"error_y\": {\"color\": \"#2a3f5f\"}, \"marker\": {\"line\": {\"color\": \"#E5ECF6\", \"width\": 0.5}}, \"type\": \"bar\"}], \"barpolar\": [{\"marker\": {\"line\": {\"color\": \"#E5ECF6\", \"width\": 0.5}}, \"type\": \"barpolar\"}], \"carpet\": [{\"aaxis\": {\"endlinecolor\": \"#2a3f5f\", \"gridcolor\": \"white\", \"linecolor\": \"white\", \"minorgridcolor\": \"white\", \"startlinecolor\": \"#2a3f5f\"}, \"baxis\": {\"endlinecolor\": \"#2a3f5f\", \"gridcolor\": \"white\", \"linecolor\": \"white\", \"minorgridcolor\": \"white\", \"startlinecolor\": \"#2a3f5f\"}, \"type\": \"carpet\"}], \"choropleth\": [{\"colorbar\": {\"outlinewidth\": 0, \"ticks\": \"\"}, \"type\": \"choropleth\"}], \"contour\": [{\"colorbar\": {\"outlinewidth\": 0, \"ticks\": \"\"}, \"colorscale\": [[0.0, \"#0d0887\"], [0.1111111111111111, \"#46039f\"], [0.2222222222222222, \"#7201a8\"], [0.3333333333333333, \"#9c179e\"], [0.4444444444444444, \"#bd3786\"], [0.5555555555555556, \"#d8576b\"], [0.6666666666666666, \"#ed7953\"], [0.7777777777777778, \"#fb9f3a\"], [0.8888888888888888, \"#fdca26\"], [1.0, \"#f0f921\"]], \"type\": \"contour\"}], \"contourcarpet\": [{\"colorbar\": {\"outlinewidth\": 0, \"ticks\": \"\"}, \"type\": \"contourcarpet\"}], \"heatmap\": [{\"colorbar\": {\"outlinewidth\": 0, \"ticks\": \"\"}, \"colorscale\": [[0.0, \"#0d0887\"], [0.1111111111111111, \"#46039f\"], [0.2222222222222222, \"#7201a8\"], [0.3333333333333333, \"#9c179e\"], [0.4444444444444444, \"#bd3786\"], [0.5555555555555556, \"#d8576b\"], [0.6666666666666666, \"#ed7953\"], [0.7777777777777778, \"#fb9f3a\"], [0.8888888888888888, \"#fdca26\"], [1.0, \"#f0f921\"]], \"type\": \"heatmap\"}], \"heatmapgl\": [{\"colorbar\": {\"outlinewidth\": 0, \"ticks\": \"\"}, \"colorscale\": [[0.0, \"#0d0887\"], [0.1111111111111111, \"#46039f\"], [0.2222222222222222, \"#7201a8\"], [0.3333333333333333, \"#9c179e\"], [0.4444444444444444, \"#bd3786\"], [0.5555555555555556, \"#d8576b\"], [0.6666666666666666, \"#ed7953\"], [0.7777777777777778, \"#fb9f3a\"], [0.8888888888888888, \"#fdca26\"], [1.0, \"#f0f921\"]], \"type\": \"heatmapgl\"}], \"histogram\": [{\"marker\": {\"colorbar\": {\"outlinewidth\": 0, \"ticks\": \"\"}}, \"type\": \"histogram\"}], \"histogram2d\": [{\"colorbar\": {\"outlinewidth\": 0, \"ticks\": \"\"}, \"colorscale\": [[0.0, \"#0d0887\"], [0.1111111111111111, \"#46039f\"], [0.2222222222222222, \"#7201a8\"], [0.3333333333333333, \"#9c179e\"], [0.4444444444444444, \"#bd3786\"], [0.5555555555555556, \"#d8576b\"], [0.6666666666666666, \"#ed7953\"], [0.7777777777777778, \"#fb9f3a\"], [0.8888888888888888, \"#fdca26\"], [1.0, \"#f0f921\"]], \"type\": \"histogram2d\"}], \"histogram2dcontour\": [{\"colorbar\": {\"outlinewidth\": 0, \"ticks\": \"\"}, \"colorscale\": [[0.0, \"#0d0887\"], [0.1111111111111111, \"#46039f\"], [0.2222222222222222, \"#7201a8\"], [0.3333333333333333, \"#9c179e\"], [0.4444444444444444, \"#bd3786\"], [0.5555555555555556, \"#d8576b\"], [0.6666666666666666, \"#ed7953\"], [0.7777777777777778, \"#fb9f3a\"], [0.8888888888888888, \"#fdca26\"], [1.0, \"#f0f921\"]], \"type\": \"histogram2dcontour\"}], \"mesh3d\": [{\"colorbar\": {\"outlinewidth\": 0, \"ticks\": \"\"}, \"type\": \"mesh3d\"}], \"parcoords\": [{\"line\": {\"colorbar\": {\"outlinewidth\": 0, \"ticks\": \"\"}}, \"type\": \"parcoords\"}], \"pie\": [{\"automargin\": true, \"type\": \"pie\"}], \"scatter\": [{\"marker\": {\"colorbar\": {\"outlinewidth\": 0, \"ticks\": \"\"}}, \"type\": \"scatter\"}], \"scatter3d\": [{\"line\": {\"colorbar\": {\"outlinewidth\": 0, \"ticks\": \"\"}}, \"marker\": {\"colorbar\": {\"outlinewidth\": 0, \"ticks\": \"\"}}, \"type\": \"scatter3d\"}], \"scattercarpet\": [{\"marker\": {\"colorbar\": {\"outlinewidth\": 0, \"ticks\": \"\"}}, \"type\": \"scattercarpet\"}], \"scattergeo\": [{\"marker\": {\"colorbar\": {\"outlinewidth\": 0, \"ticks\": \"\"}}, \"type\": \"scattergeo\"}], \"scattergl\": [{\"marker\": {\"colorbar\": {\"outlinewidth\": 0, \"ticks\": \"\"}}, \"type\": \"scattergl\"}], \"scattermapbox\": [{\"marker\": {\"colorbar\": {\"outlinewidth\": 0, \"ticks\": \"\"}}, \"type\": \"scattermapbox\"}], \"scatterpolar\": [{\"marker\": {\"colorbar\": {\"outlinewidth\": 0, \"ticks\": \"\"}}, \"type\": \"scatterpolar\"}], \"scatterpolargl\": [{\"marker\": {\"colorbar\": {\"outlinewidth\": 0, \"ticks\": \"\"}}, \"type\": \"scatterpolargl\"}], \"scatterternary\": [{\"marker\": {\"colorbar\": {\"outlinewidth\": 0, \"ticks\": \"\"}}, \"type\": \"scatterternary\"}], \"surface\": [{\"colorbar\": {\"outlinewidth\": 0, \"ticks\": \"\"}, \"colorscale\": [[0.0, \"#0d0887\"], [0.1111111111111111, \"#46039f\"], [0.2222222222222222, \"#7201a8\"], [0.3333333333333333, \"#9c179e\"], [0.4444444444444444, \"#bd3786\"], [0.5555555555555556, \"#d8576b\"], [0.6666666666666666, \"#ed7953\"], [0.7777777777777778, \"#fb9f3a\"], [0.8888888888888888, \"#fdca26\"], [1.0, \"#f0f921\"]], \"type\": \"surface\"}], \"table\": [{\"cells\": {\"fill\": {\"color\": \"#EBF0F8\"}, \"line\": {\"color\": \"white\"}}, \"header\": {\"fill\": {\"color\": \"#C8D4E3\"}, \"line\": {\"color\": \"white\"}}, \"type\": \"table\"}]}, \"layout\": {\"annotationdefaults\": {\"arrowcolor\": \"#2a3f5f\", \"arrowhead\": 0, \"arrowwidth\": 1}, \"coloraxis\": {\"colorbar\": {\"outlinewidth\": 0, \"ticks\": \"\"}}, \"colorscale\": {\"diverging\": [[0, \"#8e0152\"], [0.1, \"#c51b7d\"], [0.2, \"#de77ae\"], [0.3, \"#f1b6da\"], [0.4, \"#fde0ef\"], [0.5, \"#f7f7f7\"], [0.6, \"#e6f5d0\"], [0.7, \"#b8e186\"], [0.8, \"#7fbc41\"], [0.9, \"#4d9221\"], [1, \"#276419\"]], \"sequential\": [[0.0, \"#0d0887\"], [0.1111111111111111, \"#46039f\"], [0.2222222222222222, \"#7201a8\"], [0.3333333333333333, \"#9c179e\"], [0.4444444444444444, \"#bd3786\"], [0.5555555555555556, \"#d8576b\"], [0.6666666666666666, \"#ed7953\"], [0.7777777777777778, \"#fb9f3a\"], [0.8888888888888888, \"#fdca26\"], [1.0, \"#f0f921\"]], \"sequentialminus\": [[0.0, \"#0d0887\"], [0.1111111111111111, \"#46039f\"], [0.2222222222222222, \"#7201a8\"], [0.3333333333333333, \"#9c179e\"], [0.4444444444444444, \"#bd3786\"], [0.5555555555555556, \"#d8576b\"], [0.6666666666666666, \"#ed7953\"], [0.7777777777777778, \"#fb9f3a\"], [0.8888888888888888, \"#fdca26\"], [1.0, \"#f0f921\"]]}, \"colorway\": [\"#636efa\", \"#EF553B\", \"#00cc96\", \"#ab63fa\", \"#FFA15A\", \"#19d3f3\", \"#FF6692\", \"#B6E880\", \"#FF97FF\", \"#FECB52\"], \"font\": {\"color\": \"#2a3f5f\"}, \"geo\": {\"bgcolor\": \"white\", \"lakecolor\": \"white\", \"landcolor\": \"#E5ECF6\", \"showlakes\": true, \"showland\": true, \"subunitcolor\": \"white\"}, \"hoverlabel\": {\"align\": \"left\"}, \"hovermode\": \"closest\", \"mapbox\": {\"style\": \"light\"}, \"paper_bgcolor\": \"white\", \"plot_bgcolor\": \"#E5ECF6\", \"polar\": {\"angularaxis\": {\"gridcolor\": \"white\", \"linecolor\": \"white\", \"ticks\": \"\"}, \"bgcolor\": \"#E5ECF6\", \"radialaxis\": {\"gridcolor\": \"white\", \"linecolor\": \"white\", \"ticks\": \"\"}}, \"scene\": {\"xaxis\": {\"backgroundcolor\": \"#E5ECF6\", \"gridcolor\": \"white\", \"gridwidth\": 2, \"linecolor\": \"white\", \"showbackground\": true, \"ticks\": \"\", \"zerolinecolor\": \"white\"}, \"yaxis\": {\"backgroundcolor\": \"#E5ECF6\", \"gridcolor\": \"white\", \"gridwidth\": 2, \"linecolor\": \"white\", \"showbackground\": true, \"ticks\": \"\", \"zerolinecolor\": \"white\"}, \"zaxis\": {\"backgroundcolor\": \"#E5ECF6\", \"gridcolor\": \"white\", \"gridwidth\": 2, \"linecolor\": \"white\", \"showbackground\": true, \"ticks\": \"\", \"zerolinecolor\": \"white\"}}, \"shapedefaults\": {\"line\": {\"color\": \"#2a3f5f\"}}, \"ternary\": {\"aaxis\": {\"gridcolor\": \"white\", \"linecolor\": \"white\", \"ticks\": \"\"}, \"baxis\": {\"gridcolor\": \"white\", \"linecolor\": \"white\", \"ticks\": \"\"}, \"bgcolor\": \"#E5ECF6\", \"caxis\": {\"gridcolor\": \"white\", \"linecolor\": \"white\", \"ticks\": \"\"}}, \"title\": {\"x\": 0.05}, \"xaxis\": {\"automargin\": true, \"gridcolor\": \"white\", \"linecolor\": \"white\", \"ticks\": \"\", \"title\": {\"standoff\": 15}, \"zerolinecolor\": \"white\", \"zerolinewidth\": 2}, \"yaxis\": {\"automargin\": true, \"gridcolor\": \"white\", \"linecolor\": \"white\", \"ticks\": \"\", \"title\": {\"standoff\": 15}, \"zerolinecolor\": \"white\", \"zerolinewidth\": 2}}}, \"title\": {\"text\": \"Top 10 Departing Stations (Annual Members)\"}},\n",
              "                        {\"responsive\": true}\n",
              "                    ).then(function(){\n",
              "                            \n",
              "var gd = document.getElementById('5b8cf45b-e044-4e3f-9d88-4bc959e5cfc7');\n",
              "var x = new MutationObserver(function (mutations, observer) {{\n",
              "        var display = window.getComputedStyle(gd).display;\n",
              "        if (!display || display === 'none') {{\n",
              "            console.log([gd, 'removed!']);\n",
              "            Plotly.purge(gd);\n",
              "            observer.disconnect();\n",
              "        }}\n",
              "}});\n",
              "\n",
              "// Listen for the removal of the full notebook cells\n",
              "var notebookContainer = gd.closest('#notebook-container');\n",
              "if (notebookContainer) {{\n",
              "    x.observe(notebookContainer, {childList: true});\n",
              "}}\n",
              "\n",
              "// Listen for the clearing of the current output cell\n",
              "var outputEl = gd.closest('.output');\n",
              "if (outputEl) {{\n",
              "    x.observe(outputEl, {childList: true});\n",
              "}}\n",
              "\n",
              "                        })\n",
              "                };\n",
              "                \n",
              "            </script>\n",
              "        </div>\n",
              "</body>\n",
              "</html>"
            ]
          },
          "metadata": {
            "tags": []
          }
        }
      ]
    },
    {
      "cell_type": "code",
      "metadata": {
        "id": "rbD_9xxsfP8f"
      },
      "source": [
        "customdf = df2017.copy()\n",
        "customdf = df2017[df2017['user_type']=='Casual']\n",
        "customdf = customdf.groupby('from_station_name').size().reset_index(name='counts').sort_values(by='counts', ascending=False).head(10)"
      ],
      "execution_count": null,
      "outputs": []
    },
    {
      "cell_type": "code",
      "metadata": {
        "id": "Tmave3jRmsnN",
        "outputId": "04a8c8a8-8541-4894-b824-b4add9679fb1",
        "colab": {
          "base_uri": "https://localhost:8080/",
          "height": 542
        }
      },
      "source": [
        "# Get visual Top 10 Departing Stations (Casual Members)\n",
        "figsize=(10,5)\n",
        "labels = customdf['from_station_name']\n",
        "values = customdf['counts']\n",
        "colors = ['mediumpurple','rebeccapurple','blueviolet','indigo','violet','darkorchid','darkviolet','mediumorchid','thistle','plum']\n",
        "\n",
        "fig2 = go.Figure(data=[go.Pie(labels=labels, values=values)])\n",
        "fig2.update_layout(title_text=\"Top 10 Departing Stations (Casual Members)\")\n",
        "fig2.update_traces(marker=dict(colors=colors))\n",
        "fig2.show()"
      ],
      "execution_count": null,
      "outputs": [
        {
          "output_type": "display_data",
          "data": {
            "text/html": [
              "<html>\n",
              "<head><meta charset=\"utf-8\" /></head>\n",
              "<body>\n",
              "    <div>\n",
              "            <script src=\"https://cdnjs.cloudflare.com/ajax/libs/mathjax/2.7.5/MathJax.js?config=TeX-AMS-MML_SVG\"></script><script type=\"text/javascript\">if (window.MathJax) {MathJax.Hub.Config({SVG: {font: \"STIX-Web\"}});}</script>\n",
              "                <script type=\"text/javascript\">window.PlotlyConfig = {MathJaxConfig: 'local'};</script>\n",
              "        <script src=\"https://cdn.plot.ly/plotly-latest.min.js\"></script>    \n",
              "            <div id=\"0a86cbd4-fd2a-4bce-82ac-cf53f43e8c05\" class=\"plotly-graph-div\" style=\"height:525px; width:100%;\"></div>\n",
              "            <script type=\"text/javascript\">\n",
              "                \n",
              "                    window.PLOTLYENV=window.PLOTLYENV || {};\n",
              "                    \n",
              "                if (document.getElementById(\"0a86cbd4-fd2a-4bce-82ac-cf53f43e8c05\")) {\n",
              "                    Plotly.newPlot(\n",
              "                        '0a86cbd4-fd2a-4bce-82ac-cf53f43e8c05',\n",
              "                        [{\"labels\": [\"Ontario Place Blvd / Remembrance Dr\", \"Bay St / Queens Quay W (Ferry Terminal)\", \"York St / Queens Quay W\", \"Queens Quay W / Lower Simcoe St\", \"Bremner Blvd / Rees St\", \"HTO Park (Queens Quay W)\", \"Queens Quay / Yonge St\", \"Dockside Dr / Queens Quay E (Sugar Beach)\", \"Queens Quay W / Dan Leckie Way\", \"Bay St / Albert St\"], \"marker\": {\"colors\": [\"mediumpurple\", \"rebeccapurple\", \"blueviolet\", \"indigo\", \"violet\", \"darkorchid\", \"darkviolet\", \"mediumorchid\", \"thistle\", \"plum\"]}, \"type\": \"pie\", \"values\": [10912, 9264, 8731, 7022, 6913, 5656, 4984, 4954, 4804, 3693]}],\n",
              "                        {\"template\": {\"data\": {\"bar\": [{\"error_x\": {\"color\": \"#2a3f5f\"}, \"error_y\": {\"color\": \"#2a3f5f\"}, \"marker\": {\"line\": {\"color\": \"#E5ECF6\", \"width\": 0.5}}, \"type\": \"bar\"}], \"barpolar\": [{\"marker\": {\"line\": {\"color\": \"#E5ECF6\", \"width\": 0.5}}, \"type\": \"barpolar\"}], \"carpet\": [{\"aaxis\": {\"endlinecolor\": \"#2a3f5f\", \"gridcolor\": \"white\", \"linecolor\": \"white\", \"minorgridcolor\": \"white\", \"startlinecolor\": \"#2a3f5f\"}, \"baxis\": {\"endlinecolor\": \"#2a3f5f\", \"gridcolor\": \"white\", \"linecolor\": \"white\", \"minorgridcolor\": \"white\", \"startlinecolor\": \"#2a3f5f\"}, \"type\": \"carpet\"}], \"choropleth\": [{\"colorbar\": {\"outlinewidth\": 0, \"ticks\": \"\"}, \"type\": \"choropleth\"}], \"contour\": [{\"colorbar\": {\"outlinewidth\": 0, \"ticks\": \"\"}, \"colorscale\": [[0.0, \"#0d0887\"], [0.1111111111111111, \"#46039f\"], [0.2222222222222222, \"#7201a8\"], [0.3333333333333333, \"#9c179e\"], [0.4444444444444444, \"#bd3786\"], [0.5555555555555556, \"#d8576b\"], [0.6666666666666666, \"#ed7953\"], [0.7777777777777778, \"#fb9f3a\"], [0.8888888888888888, \"#fdca26\"], [1.0, \"#f0f921\"]], \"type\": \"contour\"}], \"contourcarpet\": [{\"colorbar\": {\"outlinewidth\": 0, \"ticks\": \"\"}, \"type\": \"contourcarpet\"}], \"heatmap\": [{\"colorbar\": {\"outlinewidth\": 0, \"ticks\": \"\"}, \"colorscale\": [[0.0, \"#0d0887\"], [0.1111111111111111, \"#46039f\"], [0.2222222222222222, \"#7201a8\"], [0.3333333333333333, \"#9c179e\"], [0.4444444444444444, \"#bd3786\"], [0.5555555555555556, \"#d8576b\"], [0.6666666666666666, \"#ed7953\"], [0.7777777777777778, \"#fb9f3a\"], [0.8888888888888888, \"#fdca26\"], [1.0, \"#f0f921\"]], \"type\": \"heatmap\"}], \"heatmapgl\": [{\"colorbar\": {\"outlinewidth\": 0, \"ticks\": \"\"}, \"colorscale\": [[0.0, \"#0d0887\"], [0.1111111111111111, \"#46039f\"], [0.2222222222222222, \"#7201a8\"], [0.3333333333333333, \"#9c179e\"], [0.4444444444444444, \"#bd3786\"], [0.5555555555555556, \"#d8576b\"], [0.6666666666666666, \"#ed7953\"], [0.7777777777777778, \"#fb9f3a\"], [0.8888888888888888, \"#fdca26\"], [1.0, \"#f0f921\"]], \"type\": \"heatmapgl\"}], \"histogram\": [{\"marker\": {\"colorbar\": {\"outlinewidth\": 0, \"ticks\": \"\"}}, \"type\": \"histogram\"}], \"histogram2d\": [{\"colorbar\": {\"outlinewidth\": 0, \"ticks\": \"\"}, \"colorscale\": [[0.0, \"#0d0887\"], [0.1111111111111111, \"#46039f\"], [0.2222222222222222, \"#7201a8\"], [0.3333333333333333, \"#9c179e\"], [0.4444444444444444, \"#bd3786\"], [0.5555555555555556, \"#d8576b\"], [0.6666666666666666, \"#ed7953\"], [0.7777777777777778, \"#fb9f3a\"], [0.8888888888888888, \"#fdca26\"], [1.0, \"#f0f921\"]], \"type\": \"histogram2d\"}], \"histogram2dcontour\": [{\"colorbar\": {\"outlinewidth\": 0, \"ticks\": \"\"}, \"colorscale\": [[0.0, \"#0d0887\"], [0.1111111111111111, \"#46039f\"], [0.2222222222222222, \"#7201a8\"], [0.3333333333333333, \"#9c179e\"], [0.4444444444444444, \"#bd3786\"], [0.5555555555555556, \"#d8576b\"], [0.6666666666666666, \"#ed7953\"], [0.7777777777777778, \"#fb9f3a\"], [0.8888888888888888, \"#fdca26\"], [1.0, \"#f0f921\"]], \"type\": \"histogram2dcontour\"}], \"mesh3d\": [{\"colorbar\": {\"outlinewidth\": 0, \"ticks\": \"\"}, \"type\": \"mesh3d\"}], \"parcoords\": [{\"line\": {\"colorbar\": {\"outlinewidth\": 0, \"ticks\": \"\"}}, \"type\": \"parcoords\"}], \"pie\": [{\"automargin\": true, \"type\": \"pie\"}], \"scatter\": [{\"marker\": {\"colorbar\": {\"outlinewidth\": 0, \"ticks\": \"\"}}, \"type\": \"scatter\"}], \"scatter3d\": [{\"line\": {\"colorbar\": {\"outlinewidth\": 0, \"ticks\": \"\"}}, \"marker\": {\"colorbar\": {\"outlinewidth\": 0, \"ticks\": \"\"}}, \"type\": \"scatter3d\"}], \"scattercarpet\": [{\"marker\": {\"colorbar\": {\"outlinewidth\": 0, \"ticks\": \"\"}}, \"type\": \"scattercarpet\"}], \"scattergeo\": [{\"marker\": {\"colorbar\": {\"outlinewidth\": 0, \"ticks\": \"\"}}, \"type\": \"scattergeo\"}], \"scattergl\": [{\"marker\": {\"colorbar\": {\"outlinewidth\": 0, \"ticks\": \"\"}}, \"type\": \"scattergl\"}], \"scattermapbox\": [{\"marker\": {\"colorbar\": {\"outlinewidth\": 0, \"ticks\": \"\"}}, \"type\": \"scattermapbox\"}], \"scatterpolar\": [{\"marker\": {\"colorbar\": {\"outlinewidth\": 0, \"ticks\": \"\"}}, \"type\": \"scatterpolar\"}], \"scatterpolargl\": [{\"marker\": {\"colorbar\": {\"outlinewidth\": 0, \"ticks\": \"\"}}, \"type\": \"scatterpolargl\"}], \"scatterternary\": [{\"marker\": {\"colorbar\": {\"outlinewidth\": 0, \"ticks\": \"\"}}, \"type\": \"scatterternary\"}], \"surface\": [{\"colorbar\": {\"outlinewidth\": 0, \"ticks\": \"\"}, \"colorscale\": [[0.0, \"#0d0887\"], [0.1111111111111111, \"#46039f\"], [0.2222222222222222, \"#7201a8\"], [0.3333333333333333, \"#9c179e\"], [0.4444444444444444, \"#bd3786\"], [0.5555555555555556, \"#d8576b\"], [0.6666666666666666, \"#ed7953\"], [0.7777777777777778, \"#fb9f3a\"], [0.8888888888888888, \"#fdca26\"], [1.0, \"#f0f921\"]], \"type\": \"surface\"}], \"table\": [{\"cells\": {\"fill\": {\"color\": \"#EBF0F8\"}, \"line\": {\"color\": \"white\"}}, \"header\": {\"fill\": {\"color\": \"#C8D4E3\"}, \"line\": {\"color\": \"white\"}}, \"type\": \"table\"}]}, \"layout\": {\"annotationdefaults\": {\"arrowcolor\": \"#2a3f5f\", \"arrowhead\": 0, \"arrowwidth\": 1}, \"coloraxis\": {\"colorbar\": {\"outlinewidth\": 0, \"ticks\": \"\"}}, \"colorscale\": {\"diverging\": [[0, \"#8e0152\"], [0.1, \"#c51b7d\"], [0.2, \"#de77ae\"], [0.3, \"#f1b6da\"], [0.4, \"#fde0ef\"], [0.5, \"#f7f7f7\"], [0.6, \"#e6f5d0\"], [0.7, \"#b8e186\"], [0.8, \"#7fbc41\"], [0.9, \"#4d9221\"], [1, \"#276419\"]], \"sequential\": [[0.0, \"#0d0887\"], [0.1111111111111111, \"#46039f\"], [0.2222222222222222, \"#7201a8\"], [0.3333333333333333, \"#9c179e\"], [0.4444444444444444, \"#bd3786\"], [0.5555555555555556, \"#d8576b\"], [0.6666666666666666, \"#ed7953\"], [0.7777777777777778, \"#fb9f3a\"], [0.8888888888888888, \"#fdca26\"], [1.0, \"#f0f921\"]], \"sequentialminus\": [[0.0, \"#0d0887\"], [0.1111111111111111, \"#46039f\"], [0.2222222222222222, \"#7201a8\"], [0.3333333333333333, \"#9c179e\"], [0.4444444444444444, \"#bd3786\"], [0.5555555555555556, \"#d8576b\"], [0.6666666666666666, \"#ed7953\"], [0.7777777777777778, \"#fb9f3a\"], [0.8888888888888888, \"#fdca26\"], [1.0, \"#f0f921\"]]}, \"colorway\": [\"#636efa\", \"#EF553B\", \"#00cc96\", \"#ab63fa\", \"#FFA15A\", \"#19d3f3\", \"#FF6692\", \"#B6E880\", \"#FF97FF\", \"#FECB52\"], \"font\": {\"color\": \"#2a3f5f\"}, \"geo\": {\"bgcolor\": \"white\", \"lakecolor\": \"white\", \"landcolor\": \"#E5ECF6\", \"showlakes\": true, \"showland\": true, \"subunitcolor\": \"white\"}, \"hoverlabel\": {\"align\": \"left\"}, \"hovermode\": \"closest\", \"mapbox\": {\"style\": \"light\"}, \"paper_bgcolor\": \"white\", \"plot_bgcolor\": \"#E5ECF6\", \"polar\": {\"angularaxis\": {\"gridcolor\": \"white\", \"linecolor\": \"white\", \"ticks\": \"\"}, \"bgcolor\": \"#E5ECF6\", \"radialaxis\": {\"gridcolor\": \"white\", \"linecolor\": \"white\", \"ticks\": \"\"}}, \"scene\": {\"xaxis\": {\"backgroundcolor\": \"#E5ECF6\", \"gridcolor\": \"white\", \"gridwidth\": 2, \"linecolor\": \"white\", \"showbackground\": true, \"ticks\": \"\", \"zerolinecolor\": \"white\"}, \"yaxis\": {\"backgroundcolor\": \"#E5ECF6\", \"gridcolor\": \"white\", \"gridwidth\": 2, \"linecolor\": \"white\", \"showbackground\": true, \"ticks\": \"\", \"zerolinecolor\": \"white\"}, \"zaxis\": {\"backgroundcolor\": \"#E5ECF6\", \"gridcolor\": \"white\", \"gridwidth\": 2, \"linecolor\": \"white\", \"showbackground\": true, \"ticks\": \"\", \"zerolinecolor\": \"white\"}}, \"shapedefaults\": {\"line\": {\"color\": \"#2a3f5f\"}}, \"ternary\": {\"aaxis\": {\"gridcolor\": \"white\", \"linecolor\": \"white\", \"ticks\": \"\"}, \"baxis\": {\"gridcolor\": \"white\", \"linecolor\": \"white\", \"ticks\": \"\"}, \"bgcolor\": \"#E5ECF6\", \"caxis\": {\"gridcolor\": \"white\", \"linecolor\": \"white\", \"ticks\": \"\"}}, \"title\": {\"x\": 0.05}, \"xaxis\": {\"automargin\": true, \"gridcolor\": \"white\", \"linecolor\": \"white\", \"ticks\": \"\", \"title\": {\"standoff\": 15}, \"zerolinecolor\": \"white\", \"zerolinewidth\": 2}, \"yaxis\": {\"automargin\": true, \"gridcolor\": \"white\", \"linecolor\": \"white\", \"ticks\": \"\", \"title\": {\"standoff\": 15}, \"zerolinecolor\": \"white\", \"zerolinewidth\": 2}}}, \"title\": {\"text\": \"Top 10 Departing Stations (Casual Members)\"}},\n",
              "                        {\"responsive\": true}\n",
              "                    ).then(function(){\n",
              "                            \n",
              "var gd = document.getElementById('0a86cbd4-fd2a-4bce-82ac-cf53f43e8c05');\n",
              "var x = new MutationObserver(function (mutations, observer) {{\n",
              "        var display = window.getComputedStyle(gd).display;\n",
              "        if (!display || display === 'none') {{\n",
              "            console.log([gd, 'removed!']);\n",
              "            Plotly.purge(gd);\n",
              "            observer.disconnect();\n",
              "        }}\n",
              "}});\n",
              "\n",
              "// Listen for the removal of the full notebook cells\n",
              "var notebookContainer = gd.closest('#notebook-container');\n",
              "if (notebookContainer) {{\n",
              "    x.observe(notebookContainer, {childList: true});\n",
              "}}\n",
              "\n",
              "// Listen for the clearing of the current output cell\n",
              "var outputEl = gd.closest('.output');\n",
              "if (outputEl) {{\n",
              "    x.observe(outputEl, {childList: true});\n",
              "}}\n",
              "\n",
              "                        })\n",
              "                };\n",
              "                \n",
              "            </script>\n",
              "        </div>\n",
              "</body>\n",
              "</html>"
            ]
          },
          "metadata": {
            "tags": []
          }
        }
      ]
    },
    {
      "cell_type": "code",
      "metadata": {
        "id": "ggoTJg25nreB",
        "outputId": "48e054d2-8518-45af-c0dc-fd99ca313448",
        "colab": {
          "base_uri": "https://localhost:8080/",
          "height": 368
        }
      },
      "source": [
        "plt.figure(figsize=(10,5))\n",
        "sns.set_style('darkgrid')\n",
        "ridership = sns.countplot(data=df2017, x='weekday_start', hue='user_type', palette='PuRd')\n",
        "plt.title('The Peak Day based on User Type')"
      ],
      "execution_count": null,
      "outputs": [
        {
          "output_type": "execute_result",
          "data": {
            "text/plain": [
              "Text(0.5, 1.0, 'The Peak Day based on User Type')"
            ]
          },
          "metadata": {
            "tags": []
          },
          "execution_count": 38
        },
        {
          "output_type": "display_data",
          "data": {
            "image/png": "[encoded data removed]",
            "text/plain": [
              "<Figure size 720x360 with 1 Axes>"
            ]
          },
          "metadata": {
            "tags": []
          }
        }
      ]
    },
    {
      "cell_type": "code",
      "metadata": {
        "id": "inFwKKpsBgqc"
      },
      "source": [
        ""
      ],
      "execution_count": null,
      "outputs": []
    }
  ]
}